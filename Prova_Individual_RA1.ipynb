{
  "nbformat": 4,
  "nbformat_minor": 0,
  "metadata": {
    "colab": {
      "provenance": [],
      "authorship_tag": "ABX9TyOPqbEG8NyRDit0J1cu+0NR",
      "include_colab_link": true
    },
    "kernelspec": {
      "name": "python3",
      "display_name": "Python 3"
    },
    "language_info": {
      "name": "python"
    }
  },
  "cells": [
    {
      "cell_type": "markdown",
      "metadata": {
        "id": "view-in-github",
        "colab_type": "text"
      },
      "source": [
        "<a href=\"https://colab.research.google.com/github/KolyraP5/ModelagemFenomenosFisicos/blob/main/Prova_Individual_RA1.ipynb\" target=\"_parent\"><img src=\"https://colab.research.google.com/assets/colab-badge.svg\" alt=\"Open In Colab\"/></a>"
      ]
    },
    {
      "cell_type": "markdown",
      "source": [
        "Avaliação em INDIVIDUAL RA1 - 2024-1\n",
        "Antes de começar, leia estas instruções cuidadosamente. Esta avaliação é individual. Você poderá consultar qualquer fonte disponível na biblioteca, suas anotações ou na internet. Mas, não poderá consultar outras pessoas.\n",
        "\n",
        "Não existirão prorrogações de prazo de entrega.\n",
        "\n",
        "Trabalhos idênticos entregues por pessoas, diferentes, serão anulados.\n",
        "\n",
        "Todos os trabalhos serão entregues em uma cópia deste caderno de atividades na forma de um link postado no AVA da instituição (Canvas). Todos os enunciados devem ser preservados e você deverá inserir uma célula de textos com o seu nome, logo após esta célula de texto de instruções.\n",
        "\n",
        "Qualquer alteração do caderno contendo as suas respostas que seja registrada após a data de postagem provocará a anulação da avaliação.\n",
        "\n",
        "Você poderá usar, neste notebook, apenas a linguagem python limitada ao uso das seguintes bibliotecas: numpy, sympy, matplotlib, ipWidgets e IPython. Todo e qualquer gráfico deverá ser criado usando o Python.\n",
        "\n",
        "Entrega será realizada com a postagem de um link para um ambiente de execução, no AVA da institução. Neste link o seu caderno deve permitir ser executado (permissão de leitor). Serão aceitos links diretos ao ambiente do Google Colaboratory, ou Links a um caderno do Google Colaboratory que tenha sido salvo pelo próprio Google Colaboratory no GitHub. Links para outro ambiente, ou que requeiram qualquer tipo de download, cliques extras, ou ainda, que requeiram aprovação para acesso, provocarão a nota zero na avaliação.\n",
        "\n",
        "Para salvar a avaliação no GitHub, clique no menu Arquivo e escolha a opção Salvar uma Cópia no Github. Para que isso funcione você precisa ter um repositório no Github. O link que você irá compartilhar será a url da página que o próprio Gooble Colab irá abrir depois de salvar suas respostas no Github.\n",
        "\n",
        "Se você encontrar algo errado nesta avaliação simplesmente anote suas observações na própria questão. Suas observações serão consideradas durante a avaliação e, em caso de pertinência, poderão encejar a anulação do item, ou da questão, a critério do professor.\n",
        "\n",
        "Não é permitido usar qualquer técnica matemática baseada em derivação, ou que fuja dos conteúdos apresenados em aula referente ao estudo de limites. Você pode usar a fórmula das diferenças finitas e todas as regras e identidades algébricas que sejam pertinentes ao cálculo de limites.\n",
        "\n",
        "Lembrem-se a interpretação faz parte da questão."
      ],
      "metadata": {
        "id": "Brh5moQSBXyk"
      }
    },
    {
      "cell_type": "markdown",
      "source": [
        "---\n",
        "\n",
        "Pedro Costa Lyra\n",
        "\n",
        "---"
      ],
      "metadata": {
        "id": "4xQzrwsHBpMX"
      }
    },
    {
      "cell_type": "markdown",
      "source": [
        "## Questões\n",
        "\n",
        "Usando apenas álgebra encontre o limites solicitados a seguir e faça uma análise do resultado encontrados. Para fazer a análise você pode usar as ferramentas que desejar, desde que seja possível verificar a validade das suas afirmações usando apenas este caderno de avaliação.\n",
        "\n",
        "Lembre-se você deve usar notação matemática na sua resposta e todo o desenvolvimento deve estar explicitado (passo a passo). O que implica na obrigatoriedade do uso de Latex neste caderno de avaliação.\n",
        "\n",
        "Observe que o cálculo do valor do limite, usando uma calculadora, site, ou ferramenta qualquer, por si só não pode ser usado como argumento na sua análise. Isso quer dizer que justificativas como o limite é $w$ porque qualquer disse que era esse valor ou o limte é $w$ porque eu calculei usando o sympy, não serão aceitas.\n",
        "\n",
        "1. **Primeira Questão:**\n",
        "\n",
        "   $$\\lim_{{x \\to 0}} \\frac{1 - \\cos(x)}{x^2}$$"
      ],
      "metadata": {
        "id": "ZrNm5PMUB7se"
      }
    },
    {
      "cell_type": "code",
      "source": [
        "from sympy import symbols, limit, cos\n",
        "x = symbols ('x')\n",
        "expressao = 1 - cos(x) / x**2\n",
        "limit_expressao = limit(expressao, x, 0)\n",
        "limit_expressao\n"
      ],
      "metadata": {
        "colab": {
          "base_uri": "https://localhost:8080/",
          "height": 37
        },
        "id": "rtoaJB6LGSbj",
        "outputId": "dd508d1a-9137-4272-da90-10fafc18208b"
      },
      "execution_count": 10,
      "outputs": [
        {
          "output_type": "execute_result",
          "data": {
            "text/plain": [
              "-oo"
            ],
            "text/latex": "$\\displaystyle -\\infty$"
          },
          "metadata": {},
          "execution_count": 10
        }
      ]
    },
    {
      "cell_type": "markdown",
      "source": [
        "2. **Segunda Questão:**\n",
        "\n",
        "   $$\\lim_{{x \\to 1}} \\frac{\\sqrt{x + 8} - 3}{x^2 - 1}$$"
      ],
      "metadata": {
        "id": "KyyXBUWgJxxM"
      }
    },
    {
      "cell_type": "markdown",
      "source": [
        "Para resolver esse limite, temos que simplifica-lo primeiramente. Fazemos isso com a técnica de radiciação, ou seja, multiplicar a expressão pelo conjugado de ${\\sqrt{x + 8} - 3}$ que é ${\\sqrt{x + 8} + 3}$, o que resulta na expressão  $$\\frac{\\sqrt{x + 8} - 3}{x^2 - 1}{\\sqrt{x + 8} + 3}$$"
      ],
      "metadata": {
        "id": "XrvcqKh3NR0k"
      }
    },
    {
      "cell_type": "code",
      "source": [
        "from sympy import symbols, limit, sqrt\n",
        "x = symbols ('x')\n",
        "expressao = (sqrt(x + 8) - 3) / (x**2 - 1)\n",
        "limit_expressao = limit(expressao, x, 1)\n",
        "limit_expressao"
      ],
      "metadata": {
        "colab": {
          "base_uri": "https://localhost:8080/",
          "height": 51
        },
        "id": "e0Bbn2hHK7lH",
        "outputId": "caa8e30e-9bee-4846-a3ce-89ffd2dcd93d"
      },
      "execution_count": 2,
      "outputs": [
        {
          "output_type": "execute_result",
          "data": {
            "text/plain": [
              "1/12"
            ],
            "text/latex": "$\\displaystyle \\frac{1}{12}$"
          },
          "metadata": {},
          "execution_count": 2
        }
      ]
    },
    {
      "cell_type": "markdown",
      "source": [
        "3. **Terceira Questão:**\n",
        "  \n",
        "  $$\\lim_{h \\to 0} \\frac{(2 + h)^3 - 8}{h}$$"
      ],
      "metadata": {
        "id": "rJ2FH9rYQw9D"
      }
    },
    {
      "cell_type": "code",
      "source": [
        "from sympy import symbols, limit, sqrt\n",
        "h = symbols ('h')\n",
        "expressao = (2 + h)**3 - 8 / h\n",
        "limit_expressao = limit(expressao, h, 0)\n",
        "limit_expressao"
      ],
      "metadata": {
        "colab": {
          "base_uri": "https://localhost:8080/",
          "height": 37
        },
        "id": "lbhBPPbEQ41_",
        "outputId": "f9e51e0e-d0f1-403b-8890-0dc22b5701e0"
      },
      "execution_count": 8,
      "outputs": [
        {
          "output_type": "execute_result",
          "data": {
            "text/plain": [
              "-oo"
            ],
            "text/latex": "$\\displaystyle -\\infty$"
          },
          "metadata": {},
          "execution_count": 8
        }
      ]
    },
    {
      "cell_type": "markdown",
      "source": [
        "4. **Quarta Questão:**\n",
        "  \n",
        "  $$\\lim_{t \\to 0} \\left( \\frac{1}{t\\sqrt{t + 1}} - \\frac{1}{t} \\right)$$"
      ],
      "metadata": {
        "id": "67o55BrGSq01"
      }
    },
    {
      "cell_type": "code",
      "source": [
        "from sympy import symbols, limit, sqrt\n",
        "t = symbols ('t')\n",
        "expressao = ((1/ t * sqrt(t + 1)) - 1/t)\n",
        "limit_expressao = limit(expressao, t, 0)\n",
        "limit_expressao"
      ],
      "metadata": {
        "colab": {
          "base_uri": "https://localhost:8080/",
          "height": 51
        },
        "id": "C3JB5In7S114",
        "outputId": "087c3e64-e48d-40f0-d2dd-40fbd77da7ef"
      },
      "execution_count": 9,
      "outputs": [
        {
          "output_type": "execute_result",
          "data": {
            "text/plain": [
              "1/2"
            ],
            "text/latex": "$\\displaystyle \\frac{1}{2}$"
          },
          "metadata": {},
          "execution_count": 9
        }
      ]
    }
  ]
}