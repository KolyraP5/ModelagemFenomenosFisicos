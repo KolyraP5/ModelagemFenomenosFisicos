{
  "nbformat": 4,
  "nbformat_minor": 0,
  "metadata": {
    "colab": {
      "provenance": [],
      "include_colab_link": true
    },
    "kernelspec": {
      "name": "python3",
      "display_name": "Python 3"
    },
    "language_info": {
      "name": "python"
    }
  },
  "cells": [
    {
      "cell_type": "markdown",
      "metadata": {
        "id": "view-in-github",
        "colab_type": "text"
      },
      "source": [
        "<a href=\"https://colab.research.google.com/github/KolyraP5/ModelagemFenomenosFisicos/blob/main/Avalia%C3%A7%C3%A3o_Individual_Pedro_Costa_Lyra_RA3.ipynb\" target=\"_parent\"><img src=\"https://colab.research.google.com/assets/colab-badge.svg\" alt=\"Open In Colab\"/></a>"
      ]
    },
    {
      "cell_type": "markdown",
      "source": [
        "# Avaliação Individual RA3 - 2024-1\n",
        "\n",
        "**Antes de começar, leia estas instruções cuidadosamente.**\n",
        "Esta avaliação é individual. Você poderá consultar qualquer fonte disponível na biblioteca, suas anotações ou na internet. Você não pode consultar outras pessoas mesmo por meio eletrônico.\n",
        "\n",
        "**Crie uma cópia deste caderno agora!** E continue lendo as instruções nesta cópia.\n",
        "\n",
        "**Não existirão prorrogações de prazo de entrega.** Se programe para entregar sua avaliação 5 minutos antes do fim do prazo para evitar imprevistos de última hora.\n",
        "\n",
        "**Trabalhos idênticos entregues por pessoas, diferentes, serão zerados.** Todos os trabalhos poderão ser submetidos a verificação de plágio. Por meio do sistema de instituição ou outro qualquer disponível na internet. Isso significa que respostas copiadas e coladas de sistemas de inteligência artificial que sejam classificados com semelhança maior que 70% também serão zerados. Qualquer diagnóstico indicativo de plágio acima de 70% também irá provocar o zeramento da avaliação.\n",
        "\n",
        "Para que sua avaliação seja considerada **ela deve ser entregues em uma cópia deste caderno de atividades na forma de um link postado no AVA da instituição (Canvas)** apenas no local correspondente a essa entrega na avaliação. Qualquer link enviado em comentários, e-mails, mensagens de Whatsapp, ou qualquer outro meio eletrônico serão ignorados provocando o zeramento desta avaliação.\n",
        "\n",
        "Entrega será realizada com a postagem de um link apontando para um ambiente de execução, no AVA da institução. Neste link o **seu caderno deve permitir ser executado (permissão de leitor)**. Serão aceitos links diretos ao ambiente do Google Colaboratory, ou Links a um caderno do Google Colaboratory que tenha sido **salvo pelo próprio Google Colaboratory** no GitHub. Links para outro ambiente, ou que requeiram qualquer tipo de **download, cliques extras, ou ainda, que requeiram aprovação para acesso, provocarão o zeramento desta avaliação**.\n",
        "\n",
        "Antes de enviar o seu trabalho, teste o compartilhamento em uma aba anônima do seu navegador web preferido.\n",
        "\n",
        "Todos os enunciados devem ser preservados e você deverá inserir uma célula de textos com o **seu nome, IMEDIATATAMENTE APÓS esta célula de texto** onde estão estas instruções.\n",
        "\n",
        "**Qualquer alteração do caderno contendo as suas respostas que seja registrada após a data de postagem provocará a anulação da avaliação**.\n",
        "\n",
        "Você poderá usar, nas suas respostas, só e somente só, a **linguagem Python** limitada ao uso das seguintes bibliotecas: **math, numpy, sympy, matplotlib, ipWidgets e IPython**. O uso de qualquer biblioteca não listada nestas instruções irá provocar o zeramento da questão.\n",
        "\n",
        "**Todo e qualquer gráfico que usar nas suas respostas deverá ser criado usando o Python**.\n",
        "\n",
        "**Todas as questões devem ser respondidas em caixas de texto, usando latex para permitir a renderização com qualidade matemática.** Exceto quando a questão indicar que você pode usar qualquer técnica computacional. Neste caso, as técnicas estarão limitadas as técnicas vistas em sala e as técnicas baseadas no retângulo de Reimann.\n",
        "\n",
        "Não é permitido usar qualquer técnica matemática baseada em cálculo numérico, séries de Taylor. de Leibntz, ou de qualquer outro tipo, ou ainda conhecimento matemático que fuja dos conteúdos apresenados em aula referentes ao estudo da integração.\n",
        "\n",
        "**Você poderá utilizar técnicas numéricas para calcular áreas, ou para encontrar o polinômio referente a um dado conjunto de pontos. Ainda a sim, sua resposta deve ser explicada em uma caixa de textos, usando latex para as equações matemáticas. Ainda assim, estas técnicas estão limitadas as técnicas apresentadas em sala (Reimann, Lagrange)**.\n",
        "\n",
        "**Esta avaliação está limitada a conteúdo de técnicas, regras e conceitos de integração**. Porém, pode ocorrer a necessidade do uso dos conceitos e técnicas de limites, ou derivadas para a solução das questões. Neste caso, o uso de técnicas de derivação está limitado as técnicas apresentadas em sala. Estando exclúidos qualquer método que inclua o uso de séries.\n",
        "\n",
        "Se você encontrar algo errado nesta avaliação anote suas observações na própria questão. Suas observações serão consideradas durante a avaliação e, em caso de pertinência, poderão encejar a anulação do item, ou da questão relacionados ao erro que você encontrou de acordo com os critérios do professor.\n",
        "\n",
        "**ATENÇÃO: TODAS AS QUESTÕES DEVEM SER RESPONDIDAS NA CÉLULA EM BRANCO QUE EXISTE APÓS CADA ENUNCIADO. OS ENUNCIADOS TÊM QUE SER PRESERVADOS.** Se, por algum motivo, ao fazer a cópia deste caderno de questões você perca as células em branco, deve criar uma nova célula após cada enunciado para colocar sua resposta. Você poderá criar quantas células de texto, ou código, que precisar desde que estas células estejam entre a questão que você está respondendo e a próxima questão deste caderno.\n",
        "\n",
        "**Lembrem-se a interpretação faz parte da questão.**\n",
        "\n",
        "**Rubrica de Avaliação**: As questões serão consideradas corretas se, e somente se, apresentarem a resposta correta, o processo algébrico estiver claro, completo e conciso (nenhuma passagem não explicada), os gráficos contiverem todas as informações necessárias ao seu entendimento.\n",
        "\n",
        "## Regras de Integração\n",
        "\n",
        "### Regras de Integração em Português\n",
        "\n",
        "$$\n",
        "\\int k \\, dx = kx + C, \\quad \\text{onde } k \\text{ é uma constante}\n",
        "$$\n",
        "\n",
        "$$\n",
        "\\int x^n \\, dx = \\frac{1}{n + 1} x^{n + 1} + C, \\quad \\text{se } n \\neq -1\n",
        "$$\n",
        "\n",
        "$$\n",
        "\\int \\frac{1}{x} \\, dx = \\ln |x| + C\n",
        "$$\n",
        "\n",
        "$$\n",
        "\\int k f(x) \\, dx = k \\int f(x) \\, dx\n",
        "$$\n",
        "\n",
        "$$\n",
        "\\int \\left( f(x) \\pm g(x) \\right) \\, dx = \\int f(x) \\, dx \\pm \\int g(x) \\, dx\n",
        "$$\n",
        "\n",
        "$$\n",
        "\\int \\sin x \\, dx = -\\cos x + C\n",
        "$$\n",
        "\n",
        "$$\n",
        "\\int \\cos x \\, dx = \\sin x + C\n",
        "$$\n",
        "\n",
        "$$\n",
        "\\int e^x \\, dx = e^x + C\n",
        "$$\n"
      ],
      "metadata": {
        "id": "vgXVkO9FGMwU"
      }
    },
    {
      "cell_type": "markdown",
      "source": [
        "##Pedro Costa Lyra"
      ],
      "metadata": {
        "id": "DIV8-wIwlyPt"
      }
    },
    {
      "cell_type": "markdown",
      "source": [
        "# Questão 1 - Vale até 1 ponto\n",
        "Em uma região desértica, pesquisadores estão estudando o crescimento de uma espécie rara de cacto. O crescimento do cacto ao longo do tempo é modelado pela função $y = x^5(2 - x)$, onde $y$ representa a altura do cacto em metros e $x$ representa o tempo em anos desde o início do estudo. Os pesquisadores querem determinar a quantidade total de biomassa acumulada pelo cacto ao longo dos primeiros 2 anos. Sabemos, de estudos anteriores que a biomassa acumulada é diretamente proporcional (1:1) a área sob a curva de crescimento do cacto ao longo do tempo. Determine a quantidade total de biomassa acumulada nestes dois anos.\n",
        "\n"
      ],
      "metadata": {
        "id": "vT6WZq9ZKd-r"
      }
    },
    {
      "cell_type": "markdown",
      "source": [
        "# Questão 2 - Vale até 1 ponto\n",
        "Usando o Python (matplotlib, sympy e numpy) trace o gráfico e calcule a área sob a função $F(x) = x^5(2 - x)$ para $0 \\leq x \\leq 2$. Não esqueça de anotar os pontos, hachurar a área calculada e de imprimir o valor da área encontrada."
      ],
      "metadata": {
        "id": "aTU7tNRaMY4w"
      }
    },
    {
      "cell_type": "code",
      "source": [
        "def f(x):\n",
        "    return -x**2 + 4*x + 1\n",
        "\n",
        "def g(x):\n",
        "    return -x**3 + 7*x**2 - 10*x + 3\n",
        "\n",
        "a = 1\n",
        "b = 2\n",
        "\n",
        "n = 1000\n",
        "\n",
        "dx = (b - a) / n\n",
        "\n",
        "area = 0\n",
        "\n",
        "for i in range(n):\n",
        "    x_left = a + i * dx\n",
        "    x_right = a + (i + 1) * dx\n",
        "    area += min(f(x_right), g(x_right)) * dx\n",
        "\n",
        "# Exibindo a área aproximada\n",
        "print(\"A área limitada pelas duas curvas é:\", area)\n"
      ],
      "metadata": {
        "colab": {
          "base_uri": "https://localhost:8080/"
        },
        "id": "vuBHc3BT-yYm",
        "outputId": "7a188ec3-11c9-49d9-94df-8ae236bc5cb5"
      },
      "execution_count": 2,
      "outputs": [
        {
          "output_type": "stream",
          "name": "stdout",
          "text": [
            "A área limitada pelas duas curvas é: 0.5853337500000004\n"
          ]
        }
      ]
    },
    {
      "cell_type": "markdown",
      "source": [
        "# Questão 3 - Vale até 1 ponto\n",
        "\n",
        "A aceleração de um objeto é dada por $a(t) = \\cos(\\pi t)$, e sua velocidade no tempo $t = 0$ é $\\frac{1}{2\\pi}$. Usando apenas álgebra, encontre a distância total percorrida por este objeto nos primeiros $1,5$ segundos deste movimento. Dica: antes de calcular qualquer coisa verifique cuidadosamente a equação da aceleração. Não é necessário, mas talvez seja interessante, traçar um gráfico da aceleração e outro da velocidade para entender o problema. É necessário entender o movimento do objeto para saber quanto espaço ele realmente percorreu."
      ],
      "metadata": {
        "id": "-iPLzLPUNge9"
      }
    },
    {
      "cell_type": "markdown",
      "source": [],
      "metadata": {
        "id": "SXTvdcHn7iVF"
      }
    },
    {
      "cell_type": "markdown",
      "source": [
        "# Questão 4 - Vale até 1 ponto\n",
        "\n",
        "Encontre a área limitada por $f(x) = -x^2 + 4x + 1$, $g(x) = -x^3 + 7x^2 - 10x + 3$ para  $1\\leq x \\leq 2$. Nesta questão você pode usar álgebra, ou Python, considerando as limitações de usos de bibliotecas definidas para esta avaliação.  \n"
      ],
      "metadata": {
        "id": "CMdRv02PAz38"
      }
    },
    {
      "cell_type": "markdown",
      "source": [
        "# Questão 5 - Vale até 1 ponto\n",
        "\n",
        "Use o método dos discos para determinar o volume do sólido obtido pela rotação da região delimitada pelas funções $y = \\sqrt{x}$, $y = 3$ e o próprio eixo $y$ em torno do eixo $y$.\n"
      ],
      "metadata": {
        "id": "53zwpYIEF4fI"
      }
    },
    {
      "cell_type": "markdown",
      "source": [
        "O método dos discos se dá pela fórmula $\\pi \\int_{a}^{b} \\left [f(x)\\right ]^2 dx $, substituindo os valores pelos das funções $y = \\sqrt{x}$, $y = 3$, com os limites de integração $3$ e $0$ chegamos em:\n",
        "$$ \\pi \\int_{0}^{3} (y^2)^2 \\, dx = \\pi \\int_{0}^{3} y^4 \\, dx $$\n",
        "Resolvendo as integrais, chegamos em:\n",
        "$$\\pi \\left [\\frac {y^5}{5}\\right ]_0^3$$\n",
        "Substituindo pelos limites de integração $3$ e $0$\n",
        "$$\\pi \\left [\\frac {3^5}{5} - \\frac{0^5} {5}\\right] =  $$\n",
        "$$\\pi \\left [\\frac {243}{5}\\right]$$"
      ],
      "metadata": {
        "id": "f4QMb9jzmWVI"
      }
    },
    {
      "cell_type": "markdown",
      "source": [
        "# Questão 6 - Vale até 3 pontos\n",
        "Para os problemas a e b, determine a média, usando a integração, para a funções nos intervalos especificados.\n",
        "\n",
        "a. $f(x) = 8x - 3 + 5e^{2-x}$ no intervalo $[0, 2]$ - Vale 1 ponto\n",
        "\n",
        "b. Considere que a posição de um objeto em movimento ao longo do eixo $ x $ é descrita pela função de deslocamento $ x(t) = t^3 - 6t^2 + 9t + 1 $, onde $ x(t) $ está em metros e $t$ está em segundos. Determine a velocidade média do objeto no intervalo de tempo de $ t = 1$ segundo até $t = 4$ segundos. - Vale 2 pontos"
      ],
      "metadata": {
        "id": "dr5lNibpLKmh"
      }
    },
    {
      "cell_type": "markdown",
      "source": [
        "a) Para calcular a média de uma função em um intervalo $[a,b]$, pode-se usar a fórmula $\\frac {1}{b-a} \\int_{a}^{b} f(x) dx$, mas primeiramente, deve-se calcular a integral.\n",
        "Calculando a integral, primeiro aplicamos a regra da soma, que é $\\int (f(x)+g(x)) dx = \\int f(x) \\, + \\int g(x) \\,$, integrando cada membro individualmente e chegando em :\n",
        "$$\\int_0^2 8x \\, dx = 8 \\int_0^2 x \\, dx =$$ $$8 \\left[ \\frac{x^2}{2} \\right]_0^2 =$$ $$8 \\left( \\frac{2^2}{2} - \\frac{0^2}{2} \\right) =$$ $$8 (2)= $$  $$16$$\n",
        "Para o $3$:\n",
        "$$ \\int_0^2 -3 \\, dx = -3  [x]_0^2  = $$\n",
        "$$-3 (2 - 0) =$$\n",
        "$$-6 $$\n",
        "\n",
        "Para o $5e^{2-x} $ chega-se em $5\\left(e^2-1\\right)$\n",
        "\n",
        "\n",
        "Somando todos os resultados, chegamos em :\n",
        "$$16-6+5\\left(e^2-1\\right) $$\n",
        "Simplificando:\n",
        "$$16 - 6 + 5e^2 - 5$$ $$10 -5 + 5e^2$$\n",
        "$$5e^2 + 5$$\n",
        "\n",
        "Aplicando a fórmula da média, chegamos em :\n",
        "\n",
        "$$\\frac {1}{b-a} \\int_{a}^{b} f(x) dx = \\frac{1}{2-0} \\int_0^2 f(x) \\, dx = \\frac{1}{2} (5e^2 + 5) = \\frac{5e^2 + 5}{2}$$\n",
        "\n",
        "A média é $\\frac{5e^2 + 5}{2}$"
      ],
      "metadata": {
        "id": "m5Dqx-HKnklZ"
      }
    },
    {
      "cell_type": "markdown",
      "source": [
        "b) A fórmula da velocidade média é $\\frac {distância}{intervalo de tempo}$, mas nesse caso, podemos considerar ela como $\\frac{x(b) - x(a)}{b - a}$. Substituindo os valores em  t^3 - 6t^2 + 9t + 1, chegamos em com $t(1)$ e t(4): <br>\n",
        "Para $t(1)$:\n",
        "$$(1)^3 - 6(1)^2 + 9(1) + 1 = $$\n",
        "$$1-6+9+1 =$$\n",
        "$$-5 + 10 = $$\n",
        "$$5$$\n",
        "Para $t(4)$ :\n",
        "$$(4)^3 - 6(4)^2 + 9(4) +1 = $$\n",
        "$$64 - 96 + 36 + 1 =  $$\n",
        "$$-32 + 37 =  $$\n",
        "$$5$$\n",
        "\n",
        "Aplicando a fórmula da velocidade média, com o intervalo de tempo sendo $4-1 = 3$, chegamos em:\n",
        "$$\\frac{5-5}{3} = \\frac {0}{3} = 0$$"
      ],
      "metadata": {
        "id": "M7LjRxymyNIk"
      }
    },
    {
      "cell_type": "markdown",
      "source": [
        "# Questão 7 - Vale até 2 pontos\n",
        "\n",
        "Nos ítens a, b a seguir, encontre a família de antiderivadas das seguintes funções:\n",
        "\n",
        "a. $f(x) = 4x^3 - 6x^2 + 2x - 5 $.\n",
        "\n",
        "b. $f(x) = \\frac{1}{x} + e^x$ para todo $x\\neq 0$.\n",
        "\n",
        "\n"
      ],
      "metadata": {
        "id": "j_fo89ayUveW"
      }
    },
    {
      "cell_type": "markdown",
      "source": [
        "a) Para encontrar a antiderivada, temos que integrar a função, nesse caso $f(x) = 4x^3 - 6x^2 + 2x - 5 $. A cada termo, aplicamos a regra de derivação. <br>\n",
        "\n",
        "$$\\int 4x^3 \\, dx = 4 \\int x^3 \\, dx = 4 \\left( \\frac{x^4}{4} \\right) = x^4$$\n",
        "\n",
        "$$\\int -6x^2 \\, dx = -6 \\int x^2 \\, dx = -6 \\left( \\frac{x^3}{3} \\right) = -2x^3$$\n",
        "$$ \\int 2x \\, dx = 2 \\int x \\, dx = 2 \\left( \\frac{x^2}{2} \\right) = x^2 $$\n",
        "$$ \\int -5 \\, dx = -5x $$\n",
        "\n",
        "Nesse caso, a família de antiderivadas é :    \n",
        "$$\\int (4x^3 - 6x^2 + 2x - 5) dx = x^4 - 2x^3 + x^2 - 5x$$"
      ],
      "metadata": {
        "id": "UqJkVVX4mxRg"
      }
    },
    {
      "cell_type": "markdown",
      "source": [
        "b) Assim como na $a$, temos que primeiramente integrar a função, que nesse caso é f(x) = $\\frac{1}{x} + e^x$, para acharmos a antiderivada:\n",
        "Para integrar $\\frac {1}{x}$ , usamos logaritmo:\n",
        "$$ \\int \\frac{1}{x} \\, dx = \\ln |x| $$\n",
        "Para $e^x$ :    \n",
        "$$ \\int e^x \\, dx = e^x $$\n",
        "\n",
        "A familia de antiderivadas é :    \n",
        "$$\\int \\left( \\frac{1}{x} + e^x \\right) \\, dx = \\ln |x| + e^x$$"
      ],
      "metadata": {
        "id": "pON3vtCj87-l"
      }
    }
  ]
}